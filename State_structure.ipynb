{
 "cells": [
  {
   "metadata": {
    "ExecuteTime": {
     "end_time": "2025-07-14T05:58:46.853739Z",
     "start_time": "2025-07-14T05:58:25.702168Z"
    }
   },
   "cell_type": "code",
   "source": [
    "import pandas as pd\n",
    "import json\n",
    "\n",
    "df = pd.read_csv('data/demo_data.csv', index_col=0)\n",
    "\n",
    "state_city_pincode_map = {}\n",
    "\n",
    "for _, row in df.iterrows():\n",
    "    states = [s.strip() for s in str(row.state_name).split(',')]\n",
    "    cities = [c.strip() for c in str(row.city).split(',')]\n",
    "    pincodes = [p.strip() for p in str(row.pincode).split(',')]\n",
    "\n",
    "    if len(cities) == len(pincodes):\n",
    "        pairs = list(zip(cities, pincodes))\n",
    "    else:\n",
    "        pairs = [(city, pin) for city in cities for pin in pincodes]\n",
    "\n",
    "    for state in states:\n",
    "        for city, pin in pairs:\n",
    "            state_city_pincode_map.setdefault(state, {}) \\\n",
    "                                   .setdefault(city, []) \\\n",
    "                                   .append(pin)\n",
    "\n",
    "print(json.dumps(state_city_pincode_map, indent=2))"
   ],
   "id": "6d48bdebe319bb7e",
   "outputs": [
    {
     "name": "stderr",
     "output_type": "stream",
     "text": [
      "IOPub data rate exceeded.\n",
      "The Jupyter server will temporarily stop sending output\n",
      "to the client in order to avoid crashing it.\n",
      "To change this limit, set the config variable\n",
      "`--ServerApp.iopub_data_rate_limit`.\n",
      "\n",
      "Current values:\n",
      "ServerApp.iopub_data_rate_limit=1000000.0 (bytes/sec)\n",
      "ServerApp.rate_limit_window=3.0 (secs)\n",
      "\n"
     ]
    }
   ],
   "execution_count": 3
  },
  {
   "metadata": {
    "ExecuteTime": {
     "end_time": "2025-07-14T05:58:57.097207Z",
     "start_time": "2025-07-14T05:58:57.089853Z"
    }
   },
   "cell_type": "code",
   "source": "state_city_pincode_map['Maharashtra'].keys()",
   "id": "8e995782e0ac658f",
   "outputs": [
    {
     "data": {
      "text/plain": [
       "dict_keys(['Mumbai', 'Palghar', 'Nagpur', 'Pune', 'Thane', 'Amravati', 'Ahmed Nagar', 'Nashik', 'Solapur', 'Jalgaon', 'Aurangabad', 'Navi Mumbai - Raigarh(MH)', 'Dombivali / Thane', 'Panvel - Raigarh(MH)', 'Osmanabad', 'Beed', 'Dhule', 'Sindhudurg', 'Kolhapur', 'Sangli', 'Kalyan - Thane', 'Akola'])"
      ]
     },
     "execution_count": 4,
     "metadata": {},
     "output_type": "execute_result"
    }
   ],
   "execution_count": 4
  },
  {
   "metadata": {
    "ExecuteTime": {
     "end_time": "2025-07-14T05:59:00.291285Z",
     "start_time": "2025-07-14T05:59:00.287419Z"
    }
   },
   "cell_type": "code",
   "source": "state_city_pincode_map.keys()",
   "id": "3637c7578c1f3729",
   "outputs": [
    {
     "data": {
      "text/plain": [
       "dict_keys(['Haryana', 'Karnataka', 'Punjab', 'Maharashtra', 'Delhi', 'Bihar', 'Uttar Pradesh', 'Gujarat', 'Kerala', 'Tamil Nadu', 'Uttarakhand', 'Telangana', 'Jharkhand', 'Madhya Pradesh', 'Chhattisgarh', 'Tripura', 'Rajasthan', 'Assam', 'West Bengal', 'Jammu and Kashmir', 'Odisha', 'Andhra Pradesh', 'Goa'])"
      ]
     },
     "execution_count": 5,
     "metadata": {},
     "output_type": "execute_result"
    }
   ],
   "execution_count": 5
  },
  {
   "metadata": {
    "ExecuteTime": {
     "end_time": "2025-07-14T06:00:08.594563Z",
     "start_time": "2025-07-14T06:00:07.459090Z"
    }
   },
   "cell_type": "code",
   "source": [
    "import json\n",
    "\n",
    "with open('data/state_city_pincode_map.json', 'w') as f:\n",
    "    json.dump(state_city_pincode_map, f, indent=2)"
   ],
   "id": "1b2f6a933ac1cf9d",
   "outputs": [],
   "execution_count": 6
  },
  {
   "metadata": {
    "ExecuteTime": {
     "end_time": "2025-07-14T09:22:26.778891Z",
     "start_time": "2025-07-14T09:22:24.161405Z"
    }
   },
   "cell_type": "code",
   "source": [
    "import pandas as pd\n",
    "import numpy as np\n",
    "\n",
    "data = pd.read_csv('data/demo_data.csv', index_col=0)\n",
    "\n",
    "# Mask for pediatrician patients older than 18\n",
    "mask = (data['speciality'] == 'Pediatrician') & (data['age'] > 18)\n",
    "\n",
    "# Compute unit place, replacing 0 with 10\n",
    "unit = (data.loc[mask, 'age'] % 10).replace(0, 10)\n",
    "\n",
    "# Assign back to age\n",
    "data.loc[mask, 'age'] = unit"
   ],
   "id": "12504afde09532f7",
   "outputs": [],
   "execution_count": 11
  },
  {
   "metadata": {
    "ExecuteTime": {
     "end_time": "2025-07-14T09:22:33.447951Z",
     "start_time": "2025-07-14T09:22:28.891633Z"
    }
   },
   "cell_type": "code",
   "source": "data.to_csv('data/new_demo_data.csv')",
   "id": "a230bbe380ba7c6e",
   "outputs": [],
   "execution_count": 12
  },
  {
   "metadata": {
    "ExecuteTime": {
     "end_time": "2025-07-14T09:22:41.370740Z",
     "start_time": "2025-07-14T09:22:35.944146Z"
    }
   },
   "cell_type": "code",
   "source": [
    "def clean_medical_data(data):\n",
    "    data['gender'] = data['gender'].replace(\"\", \"Unknown\")\n",
    "    data['value'] = data['value'].str.lower().apply(lambda x: \"pain in abdomen\" if \"pain in abd\" in str(x) else x)\n",
    "    replacements = {\n",
    "        'cbc': 'cbc',\n",
    "        'urine': 'urine',\n",
    "        'hbsag': 'hbsag',\n",
    "    }\n",
    "    for key, value in replacements.items():\n",
    "        data['value'] = data['value'].str.lower().apply(lambda x: key if value in str(x) else x)\n",
    "    return data\n",
    "\n",
    "data = clean_medical_data(data)\n",
    "data.to_csv('data/demo_data_cleaned.csv')"
   ],
   "id": "e51e8e17498384f5",
   "outputs": [],
   "execution_count": 13
  },
  {
   "metadata": {
    "ExecuteTime": {
     "end_time": "2025-07-14T09:22:50.458344Z",
     "start_time": "2025-07-14T09:22:50.449744Z"
    }
   },
   "cell_type": "code",
   "source": "len(data)",
   "id": "2d31c48e8b6103cc",
   "outputs": [
    {
     "data": {
      "text/plain": [
       "833561"
      ]
     },
     "execution_count": 14,
     "metadata": {},
     "output_type": "execute_result"
    }
   ],
   "execution_count": 14
  },
  {
   "metadata": {
    "ExecuteTime": {
     "end_time": "2025-07-14T09:36:27.319080Z",
     "start_time": "2025-07-14T09:36:26.947008Z"
    }
   },
   "cell_type": "code",
   "source": "data = data[data['type'] != 'Demographic']",
   "id": "7a1587ab6747a37f",
   "outputs": [],
   "execution_count": 15
  },
  {
   "metadata": {
    "ExecuteTime": {
     "end_time": "2025-07-14T09:36:57.884398Z",
     "start_time": "2025-07-14T09:36:53.386462Z"
    }
   },
   "cell_type": "code",
   "source": "data.to_csv('data/demo_data.csv')",
   "id": "5098fec031c8b376",
   "outputs": [],
   "execution_count": 16
  },
  {
   "metadata": {},
   "cell_type": "code",
   "outputs": [],
   "execution_count": null,
   "source": "",
   "id": "e6ee7b54763b1042"
  }
 ],
 "metadata": {
  "kernelspec": {
   "display_name": "Python 3",
   "language": "python",
   "name": "python3"
  },
  "language_info": {
   "codemirror_mode": {
    "name": "ipython",
    "version": 2
   },
   "file_extension": ".py",
   "mimetype": "text/x-python",
   "name": "python",
   "nbconvert_exporter": "python",
   "pygments_lexer": "ipython2",
   "version": "2.7.6"
  }
 },
 "nbformat": 4,
 "nbformat_minor": 5
}
